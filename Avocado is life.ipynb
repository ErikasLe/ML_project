{
 "cells": [
  {
   "cell_type": "code",
   "execution_count": 1,
   "metadata": {},
   "outputs": [],
   "source": [
    "from bokeh.io import output_notebook\n",
    "from bokeh.plotting import show, figure\n",
    "from bokeh.tile_providers import get_provider, Vendors\n",
    "from bokeh.models import ColumnDataSource\n",
    "from itertools import product\n",
    "from pandas.plotting import scatter_matrix\n",
    "from sklearn.linear_model import LinearRegression\n",
    "from sklearn.preprocessing import LabelEncoder\n",
    "from sklearn.preprocessing import StandardScaler\n",
    "import matplotlib.pyplot as plt\n",
    "import seaborn as sns\n",
    "\n",
    "\n",
    "import pandas as pd\n",
    "import numpy as np\n",
    "pd.options.display.max_columns = 9999\n",
    "pd.options.display.float_format = '{:20,.2f}'.format"
   ]
  },
  {
   "cell_type": "code",
   "execution_count": 2,
   "metadata": {},
   "outputs": [
    {
     "name": "stdout",
     "output_type": "stream",
     "text": [
      "<class 'pandas.core.frame.DataFrame'>\n",
      "RangeIndex: 18249 entries, 0 to 18248\n",
      "Data columns (total 14 columns):\n",
      "Unnamed: 0      18249 non-null int64\n",
      "Date            18249 non-null object\n",
      "AveragePrice    18249 non-null float64\n",
      "Total Volume    18249 non-null float64\n",
      "4046            18249 non-null float64\n",
      "4225            18249 non-null float64\n",
      "4770            18249 non-null float64\n",
      "Total Bags      18249 non-null float64\n",
      "Small Bags      18249 non-null float64\n",
      "Large Bags      18249 non-null float64\n",
      "XLarge Bags     18249 non-null float64\n",
      "type            18249 non-null object\n",
      "year            18249 non-null int64\n",
      "region          18249 non-null object\n",
      "dtypes: float64(9), int64(2), object(3)\n",
      "memory usage: 1.9+ MB\n"
     ]
    }
   ],
   "source": [
    "df = pd.read_csv('avocado.csv')\n",
    "df.info()"
   ]
  },
  {
   "cell_type": "code",
   "execution_count": 3,
   "metadata": {},
   "outputs": [],
   "source": [
    "\n",
    "df = df['region'].str.get_dummies(';').add_prefix('Has_')\n"
   ]
  },
  {
   "cell_type": "code",
   "execution_count": null,
   "metadata": {},
   "outputs": [],
   "source": []
  },
  {
   "cell_type": "code",
   "execution_count": 4,
   "metadata": {},
   "outputs": [],
   "source": [
    "def label_race (row):\n",
    "    if row['Has_Albany'] == 1 :\n",
    "      return '1'\n",
    "    if row['Has_Atlanta'] == 1 :\n",
    "      return '1'\n",
    "    if row['Has_BaltimoreWashington'] == 1 :\n",
    "      return '1'\n",
    "    if row['Has_Boise'] == 1 :\n",
    "      return '3'\n",
    "    if row['Has_Boston'] == 1 :\n",
    "      return '1'\n",
    "    if row['Has_BuffaloRochester'] == 1 :\n",
    "      return '1'\n",
    "    if row['Has_California'] == 1 :\n",
    "      return '3'\n",
    "    if row['Has_Charlotte'] == 1 :\n",
    "      return '1'\n",
    "    if row['Has_Chicago'] == 1 :\n",
    "      return '2'\n",
    "    if row['Has_CincinnatiDayton'] == 1 :\n",
    "      return '2'\n",
    "    if row['Has_Columbus'] == 1 :\n",
    "      return '1'\n",
    "    if row['Has_DallasFtWorth'] == 1 :\n",
    "      return '2'\n",
    "    if row['Has_Denver'] == 1 :\n",
    "      return '2'\n",
    "    if row['Has_Detroit'] == 1 :\n",
    "      return '2'\n",
    "    if row['Has_GrandRapids'] == 1 :\n",
    "      return '2'\n",
    "    if row['Has_GreatLakes'] == 1 :\n",
    "      return '2'\n",
    "    if row['Has_HarrisburgScranton'] == 1 :\n",
    "      return '1'\n",
    "    if row['Has_HartfordSpringfield'] == 1 :\n",
    "      return '2'\n",
    "    if row['Has_Jacksonville'] == 1 :\n",
    "      return '1'\n",
    "    if row['Has_LasVegas'] == 1 :\n",
    "      return '3'\n",
    "    if row['Has_Houston'] == 1 :\n",
    "      return '1'\n",
    "    if row['Has_Midsouth'] == 1 :\n",
    "      return '2'\n",
    "    if row['Has_PhoenixTucson'] == 1 :\n",
    "      return '3'\n",
    "    if row['Has_Philadelphia'] == 1 :\n",
    "      return '1'\n",
    "    if row['Has_Louisville'] == 1 :\n",
    "      return '2'\n",
    "    if row['Has_Portland'] == 1 :\n",
    "      return '3'\n",
    "    if row['Has_MiamiFtLauderdale'] == 1 :\n",
    "      return '1'\n",
    "    if row['Has_Nashville'] == 1 :\n",
    "      return '2'\n",
    "    if row['Has_Northeast'] == 1 :\n",
    "      return '1'\n",
    "    if row['Has_Indianapolis'] == 1 :\n",
    "      return '2'\n",
    "    if row['Has_NewYork'] == 1 :\n",
    "      return '1'\n",
    "    if row['Has_NewOrleansMobile'] == 1 :\n",
    "      return '2'\n",
    "    if row['Has_NorthernNewEngland'] == 1 :\n",
    "      return '1'\n",
    "    if row['Has_Orlando'] == 1 :\n",
    "      return '1'\n",
    "    if row['Has_Pittsburgh'] == 1 :\n",
    "      return '1'\n",
    "    if row['Has_RaleighGreensboro'] == 1 :\n",
    "      return '1'\n",
    "    if row['Has_Plains'] == 1 :\n",
    "      return '2'\n",
    "    if row['Has_NewOrleansMobile'] == 1 :\n",
    "      return '2'\n",
    "    if row['Has_RichmondNorfolk'] == 1 :\n",
    "      return '1'\n",
    "    if row['Has_Roanoke'] == 1 :\n",
    "      return '1'\n",
    "    if row['Has_SouthCentral'] == 1 :\n",
    "      return '2'\n",
    "    if row['Has_Sacramento'] == 1 :\n",
    "      return '3'\n",
    "    if row['Has_MiamiFtLauderdale'] == 1 :\n",
    "      return '1'\n",
    "    if row['Has_SanDiego'] == 1 :\n",
    "      return '3'\n",
    "    if row['Has_SanFrancisco'] == 1 :\n",
    "      return '3'\n",
    "    if row['Has_SouthCarolina'] == 1 :\n",
    "      return '3'\n",
    "    if row['Has_Southeast'] == 1 :\n",
    "      return '1'\n",
    "    if row['Has_Spokane'] == 1 :\n",
    "      return '3'\n",
    "    if row['Has_StLouis'] == 1 :\n",
    "      return '2'\n",
    "    if row['Has_TotalUS'] == 1 :\n",
    "      return '2'\n",
    "    if row['Has_West'] == 1 :\n",
    "      return '3'\n",
    "    if row['Has_WestTexNewMexico'] == 1 :\n",
    "      return '3'\n",
    "    if row['Has_Syracuse'] == 1 :\n",
    "      return '1'\n",
    "    if row['Has_Tampa'] == 1 :\n",
    "      return '1'\n"
   ]
  },
  {
   "cell_type": "code",
   "execution_count": 5,
   "metadata": {},
   "outputs": [
    {
     "data": {
      "text/plain": [
       "0        1\n",
       "1        1\n",
       "2        1\n",
       "3        1\n",
       "4        1\n",
       "        ..\n",
       "18244    3\n",
       "18245    3\n",
       "18246    3\n",
       "18247    3\n",
       "18248    3\n",
       "Length: 18249, dtype: object"
      ]
     },
     "execution_count": 5,
     "metadata": {},
     "output_type": "execute_result"
    }
   ],
   "source": [
    "df.apply (lambda row: label_race(row), axis=1)"
   ]
  },
  {
   "cell_type": "code",
   "execution_count": 6,
   "metadata": {},
   "outputs": [],
   "source": [
    "df['regions'] = df.apply (lambda row: label_race(row), axis=1)"
   ]
  },
  {
   "cell_type": "code",
   "execution_count": 7,
   "metadata": {},
   "outputs": [],
   "source": [
    "df.drop(['Has_Albany','Has_Atlanta','Has_BaltimoreWashington','Has_Boise','Has_Boston','Has_BuffaloRochester','Has_California','Has_Charlotte','Has_Chicago','Has_CincinnatiDayton','Has_Columbus','Has_DallasFtWorth','Has_Denver','Has_Detroit','Has_GrandRapids','Has_GreatLakes','Has_HarrisburgScranton','Has_HartfordSpringfield','Has_Houston','Has_Indianapolis','Has_Jacksonville','Has_LasVegas','Has_LosAngeles','Has_Louisville','Has_MiamiFtLauderdale','Has_Midsouth','Has_Nashville','Has_NewOrleansMobile','Has_NewYork','Has_Northeast','Has_NorthernNewEngland','Has_Orlando','Has_Philadelphia','Has_PhoenixTucson','Has_Pittsburgh','Has_Albany','Has_Atlanta','Has_BaltimoreWashington','Has_Boise','Has_Boston','Has_BuffaloRochester','Has_California','Has_Charlotte','Has_Chicago','Has_CincinnatiDayton','Has_Columbus','Has_DallasFtWorth','Has_Denver','Has_Detroit','Has_GrandRapids','Has_GreatLakes','Has_HarrisburgScranton','Has_HartfordSpringfield','Has_Houston','Has_Indianapolis','Has_Jacksonville','Has_LasVegas','Has_LosAngeles','Has_Louisville','Has_MiamiFtLauderdale','Has_Midsouth','Has_Nashville','Has_NewOrleansMobile','Has_NewYork','Has_Northeast','Has_NorthernNewEngland','Has_Orlando','Has_Philadelphia','Has_PhoenixTucson','Has_Pittsburgh','Has_Plains','Has_Portland','Has_RaleighGreensboro','Has_RichmondNorfolk','Has_Roanoke','Has_Sacramento','Has_SanDiego','Has_SanFrancisco','Has_Seattle','Has_SouthCarolina','Has_SouthCentral','Has_Southeast','Has_Spokane','Has_StLouis','Has_Syracuse','Has_Tampa','Has_TotalUS','Has_West','Has_WestTexNewMexico'], axis=1, inplace=True)"
   ]
  },
  {
   "cell_type": "code",
   "execution_count": null,
   "metadata": {},
   "outputs": [],
   "source": [
    "\n"
   ]
  },
  {
   "cell_type": "code",
   "execution_count": 8,
   "metadata": {},
   "outputs": [
    {
     "data": {
      "text/html": [
       "<div>\n",
       "<style scoped>\n",
       "    .dataframe tbody tr th:only-of-type {\n",
       "        vertical-align: middle;\n",
       "    }\n",
       "\n",
       "    .dataframe tbody tr th {\n",
       "        vertical-align: top;\n",
       "    }\n",
       "\n",
       "    .dataframe thead th {\n",
       "        text-align: right;\n",
       "    }\n",
       "</style>\n",
       "<table border=\"1\" class=\"dataframe\">\n",
       "  <thead>\n",
       "    <tr style=\"text-align: right;\">\n",
       "      <th></th>\n",
       "      <th>regions</th>\n",
       "    </tr>\n",
       "  </thead>\n",
       "  <tbody>\n",
       "    <tr>\n",
       "      <td>0</td>\n",
       "      <td>1</td>\n",
       "    </tr>\n",
       "    <tr>\n",
       "      <td>1</td>\n",
       "      <td>1</td>\n",
       "    </tr>\n",
       "    <tr>\n",
       "      <td>2</td>\n",
       "      <td>1</td>\n",
       "    </tr>\n",
       "    <tr>\n",
       "      <td>3</td>\n",
       "      <td>1</td>\n",
       "    </tr>\n",
       "    <tr>\n",
       "      <td>4</td>\n",
       "      <td>1</td>\n",
       "    </tr>\n",
       "  </tbody>\n",
       "</table>\n",
       "</div>"
      ],
      "text/plain": [
       "  regions\n",
       "0       1\n",
       "1       1\n",
       "2       1\n",
       "3       1\n",
       "4       1"
      ]
     },
     "execution_count": 8,
     "metadata": {},
     "output_type": "execute_result"
    }
   ],
   "source": [
    "df.head()"
   ]
  },
  {
   "cell_type": "code",
   "execution_count": 9,
   "metadata": {},
   "outputs": [
    {
     "data": {
      "text/html": [
       "<div>\n",
       "<style scoped>\n",
       "    .dataframe tbody tr th:only-of-type {\n",
       "        vertical-align: middle;\n",
       "    }\n",
       "\n",
       "    .dataframe tbody tr th {\n",
       "        vertical-align: top;\n",
       "    }\n",
       "\n",
       "    .dataframe thead th {\n",
       "        text-align: right;\n",
       "    }\n",
       "</style>\n",
       "<table border=\"1\" class=\"dataframe\">\n",
       "  <thead>\n",
       "    <tr style=\"text-align: right;\">\n",
       "      <th></th>\n",
       "      <th>Unnamed: 0</th>\n",
       "      <th>Date</th>\n",
       "      <th>AveragePrice</th>\n",
       "      <th>Total Volume</th>\n",
       "      <th>4046</th>\n",
       "      <th>4225</th>\n",
       "      <th>4770</th>\n",
       "      <th>Total Bags</th>\n",
       "      <th>Small Bags</th>\n",
       "      <th>Large Bags</th>\n",
       "      <th>XLarge Bags</th>\n",
       "      <th>type</th>\n",
       "      <th>year</th>\n",
       "      <th>region</th>\n",
       "    </tr>\n",
       "  </thead>\n",
       "  <tbody>\n",
       "    <tr>\n",
       "      <td>0</td>\n",
       "      <td>0</td>\n",
       "      <td>2015-12-27</td>\n",
       "      <td>1.33</td>\n",
       "      <td>64,236.62</td>\n",
       "      <td>1,036.74</td>\n",
       "      <td>54,454.85</td>\n",
       "      <td>48.16</td>\n",
       "      <td>8,696.87</td>\n",
       "      <td>8,603.62</td>\n",
       "      <td>93.25</td>\n",
       "      <td>0.00</td>\n",
       "      <td>conventional</td>\n",
       "      <td>2015</td>\n",
       "      <td>Albany</td>\n",
       "    </tr>\n",
       "    <tr>\n",
       "      <td>1</td>\n",
       "      <td>1</td>\n",
       "      <td>2015-12-20</td>\n",
       "      <td>1.35</td>\n",
       "      <td>54,876.98</td>\n",
       "      <td>674.28</td>\n",
       "      <td>44,638.81</td>\n",
       "      <td>58.33</td>\n",
       "      <td>9,505.56</td>\n",
       "      <td>9,408.07</td>\n",
       "      <td>97.49</td>\n",
       "      <td>0.00</td>\n",
       "      <td>conventional</td>\n",
       "      <td>2015</td>\n",
       "      <td>Albany</td>\n",
       "    </tr>\n",
       "    <tr>\n",
       "      <td>2</td>\n",
       "      <td>2</td>\n",
       "      <td>2015-12-13</td>\n",
       "      <td>0.93</td>\n",
       "      <td>118,220.22</td>\n",
       "      <td>794.70</td>\n",
       "      <td>109,149.67</td>\n",
       "      <td>130.50</td>\n",
       "      <td>8,145.35</td>\n",
       "      <td>8,042.21</td>\n",
       "      <td>103.14</td>\n",
       "      <td>0.00</td>\n",
       "      <td>conventional</td>\n",
       "      <td>2015</td>\n",
       "      <td>Albany</td>\n",
       "    </tr>\n",
       "    <tr>\n",
       "      <td>3</td>\n",
       "      <td>3</td>\n",
       "      <td>2015-12-06</td>\n",
       "      <td>1.08</td>\n",
       "      <td>78,992.15</td>\n",
       "      <td>1,132.00</td>\n",
       "      <td>71,976.41</td>\n",
       "      <td>72.58</td>\n",
       "      <td>5,811.16</td>\n",
       "      <td>5,677.40</td>\n",
       "      <td>133.76</td>\n",
       "      <td>0.00</td>\n",
       "      <td>conventional</td>\n",
       "      <td>2015</td>\n",
       "      <td>Albany</td>\n",
       "    </tr>\n",
       "    <tr>\n",
       "      <td>4</td>\n",
       "      <td>4</td>\n",
       "      <td>2015-11-29</td>\n",
       "      <td>1.28</td>\n",
       "      <td>51,039.60</td>\n",
       "      <td>941.48</td>\n",
       "      <td>43,838.39</td>\n",
       "      <td>75.78</td>\n",
       "      <td>6,183.95</td>\n",
       "      <td>5,986.26</td>\n",
       "      <td>197.69</td>\n",
       "      <td>0.00</td>\n",
       "      <td>conventional</td>\n",
       "      <td>2015</td>\n",
       "      <td>Albany</td>\n",
       "    </tr>\n",
       "  </tbody>\n",
       "</table>\n",
       "</div>"
      ],
      "text/plain": [
       "   Unnamed: 0        Date         AveragePrice         Total Volume  \\\n",
       "0           0  2015-12-27                 1.33            64,236.62   \n",
       "1           1  2015-12-20                 1.35            54,876.98   \n",
       "2           2  2015-12-13                 0.93           118,220.22   \n",
       "3           3  2015-12-06                 1.08            78,992.15   \n",
       "4           4  2015-11-29                 1.28            51,039.60   \n",
       "\n",
       "                  4046                 4225                 4770  \\\n",
       "0             1,036.74            54,454.85                48.16   \n",
       "1               674.28            44,638.81                58.33   \n",
       "2               794.70           109,149.67               130.50   \n",
       "3             1,132.00            71,976.41                72.58   \n",
       "4               941.48            43,838.39                75.78   \n",
       "\n",
       "            Total Bags           Small Bags           Large Bags  \\\n",
       "0             8,696.87             8,603.62                93.25   \n",
       "1             9,505.56             9,408.07                97.49   \n",
       "2             8,145.35             8,042.21               103.14   \n",
       "3             5,811.16             5,677.40               133.76   \n",
       "4             6,183.95             5,986.26               197.69   \n",
       "\n",
       "           XLarge Bags          type  year  region  \n",
       "0                 0.00  conventional  2015  Albany  \n",
       "1                 0.00  conventional  2015  Albany  \n",
       "2                 0.00  conventional  2015  Albany  \n",
       "3                 0.00  conventional  2015  Albany  \n",
       "4                 0.00  conventional  2015  Albany  "
      ]
     },
     "execution_count": 9,
     "metadata": {},
     "output_type": "execute_result"
    }
   ],
   "source": [
    "df1 = pd.read_csv('avocado.csv')\n",
    "df1.head()"
   ]
  },
  {
   "cell_type": "code",
   "execution_count": 10,
   "metadata": {},
   "outputs": [],
   "source": [
    "df1.drop(['Unnamed: 0','region'], axis=1, inplace=True)"
   ]
  },
  {
   "cell_type": "code",
   "execution_count": 11,
   "metadata": {},
   "outputs": [],
   "source": [
    "dfm = pd.concat([df1, df], axis=1)"
   ]
  },
  {
   "cell_type": "code",
   "execution_count": null,
   "metadata": {},
   "outputs": [],
   "source": []
  },
  {
   "cell_type": "code",
   "execution_count": 12,
   "metadata": {},
   "outputs": [],
   "source": [
    "dfm.Date = pd.to_datetime(dfm.Date)"
   ]
  },
  {
   "cell_type": "code",
   "execution_count": 13,
   "metadata": {},
   "outputs": [],
   "source": [
    "dfm[\"day\"] = dfm.Date.dt.day\n",
    "dfm[\"week\"] = dfm.Date.dt.week\n",
    "dfm[\"month\"] = dfm.Date.dt.month\n",
    "dfm[\"year\"] = dfm.Date.dt.year"
   ]
  },
  {
   "cell_type": "code",
   "execution_count": 14,
   "metadata": {},
   "outputs": [],
   "source": [
    "dfm.drop(['Date'], axis=1, inplace=True)"
   ]
  },
  {
   "cell_type": "code",
   "execution_count": 15,
   "metadata": {},
   "outputs": [],
   "source": [
    "le = LabelEncoder()\n",
    "le.fit(dfm.type.drop_duplicates()) \n",
    "dfm.type = le.transform(dfm.type)\n"
   ]
  },
  {
   "cell_type": "code",
   "execution_count": 16,
   "metadata": {},
   "outputs": [
    {
     "data": {
      "text/html": [
       "<div>\n",
       "<style scoped>\n",
       "    .dataframe tbody tr th:only-of-type {\n",
       "        vertical-align: middle;\n",
       "    }\n",
       "\n",
       "    .dataframe tbody tr th {\n",
       "        vertical-align: top;\n",
       "    }\n",
       "\n",
       "    .dataframe thead th {\n",
       "        text-align: right;\n",
       "    }\n",
       "</style>\n",
       "<table border=\"1\" class=\"dataframe\">\n",
       "  <thead>\n",
       "    <tr style=\"text-align: right;\">\n",
       "      <th></th>\n",
       "      <th>AveragePrice</th>\n",
       "      <th>Total Volume</th>\n",
       "      <th>4046</th>\n",
       "      <th>4225</th>\n",
       "      <th>4770</th>\n",
       "      <th>Total Bags</th>\n",
       "      <th>Small Bags</th>\n",
       "      <th>Large Bags</th>\n",
       "      <th>XLarge Bags</th>\n",
       "      <th>type</th>\n",
       "      <th>year</th>\n",
       "      <th>regions</th>\n",
       "      <th>day</th>\n",
       "      <th>week</th>\n",
       "      <th>month</th>\n",
       "    </tr>\n",
       "  </thead>\n",
       "  <tbody>\n",
       "    <tr>\n",
       "      <td>0</td>\n",
       "      <td>1.33</td>\n",
       "      <td>64,236.62</td>\n",
       "      <td>1,036.74</td>\n",
       "      <td>54,454.85</td>\n",
       "      <td>48.16</td>\n",
       "      <td>8,696.87</td>\n",
       "      <td>8,603.62</td>\n",
       "      <td>93.25</td>\n",
       "      <td>0.00</td>\n",
       "      <td>0</td>\n",
       "      <td>2015</td>\n",
       "      <td>1</td>\n",
       "      <td>27</td>\n",
       "      <td>52</td>\n",
       "      <td>12</td>\n",
       "    </tr>\n",
       "    <tr>\n",
       "      <td>1</td>\n",
       "      <td>1.35</td>\n",
       "      <td>54,876.98</td>\n",
       "      <td>674.28</td>\n",
       "      <td>44,638.81</td>\n",
       "      <td>58.33</td>\n",
       "      <td>9,505.56</td>\n",
       "      <td>9,408.07</td>\n",
       "      <td>97.49</td>\n",
       "      <td>0.00</td>\n",
       "      <td>0</td>\n",
       "      <td>2015</td>\n",
       "      <td>1</td>\n",
       "      <td>20</td>\n",
       "      <td>51</td>\n",
       "      <td>12</td>\n",
       "    </tr>\n",
       "    <tr>\n",
       "      <td>2</td>\n",
       "      <td>0.93</td>\n",
       "      <td>118,220.22</td>\n",
       "      <td>794.70</td>\n",
       "      <td>109,149.67</td>\n",
       "      <td>130.50</td>\n",
       "      <td>8,145.35</td>\n",
       "      <td>8,042.21</td>\n",
       "      <td>103.14</td>\n",
       "      <td>0.00</td>\n",
       "      <td>0</td>\n",
       "      <td>2015</td>\n",
       "      <td>1</td>\n",
       "      <td>13</td>\n",
       "      <td>50</td>\n",
       "      <td>12</td>\n",
       "    </tr>\n",
       "    <tr>\n",
       "      <td>3</td>\n",
       "      <td>1.08</td>\n",
       "      <td>78,992.15</td>\n",
       "      <td>1,132.00</td>\n",
       "      <td>71,976.41</td>\n",
       "      <td>72.58</td>\n",
       "      <td>5,811.16</td>\n",
       "      <td>5,677.40</td>\n",
       "      <td>133.76</td>\n",
       "      <td>0.00</td>\n",
       "      <td>0</td>\n",
       "      <td>2015</td>\n",
       "      <td>1</td>\n",
       "      <td>6</td>\n",
       "      <td>49</td>\n",
       "      <td>12</td>\n",
       "    </tr>\n",
       "    <tr>\n",
       "      <td>4</td>\n",
       "      <td>1.28</td>\n",
       "      <td>51,039.60</td>\n",
       "      <td>941.48</td>\n",
       "      <td>43,838.39</td>\n",
       "      <td>75.78</td>\n",
       "      <td>6,183.95</td>\n",
       "      <td>5,986.26</td>\n",
       "      <td>197.69</td>\n",
       "      <td>0.00</td>\n",
       "      <td>0</td>\n",
       "      <td>2015</td>\n",
       "      <td>1</td>\n",
       "      <td>29</td>\n",
       "      <td>48</td>\n",
       "      <td>11</td>\n",
       "    </tr>\n",
       "  </tbody>\n",
       "</table>\n",
       "</div>"
      ],
      "text/plain": [
       "          AveragePrice         Total Volume                 4046  \\\n",
       "0                 1.33            64,236.62             1,036.74   \n",
       "1                 1.35            54,876.98               674.28   \n",
       "2                 0.93           118,220.22               794.70   \n",
       "3                 1.08            78,992.15             1,132.00   \n",
       "4                 1.28            51,039.60               941.48   \n",
       "\n",
       "                  4225                 4770           Total Bags  \\\n",
       "0            54,454.85                48.16             8,696.87   \n",
       "1            44,638.81                58.33             9,505.56   \n",
       "2           109,149.67               130.50             8,145.35   \n",
       "3            71,976.41                72.58             5,811.16   \n",
       "4            43,838.39                75.78             6,183.95   \n",
       "\n",
       "            Small Bags           Large Bags          XLarge Bags  type  year  \\\n",
       "0             8,603.62                93.25                 0.00     0  2015   \n",
       "1             9,408.07                97.49                 0.00     0  2015   \n",
       "2             8,042.21               103.14                 0.00     0  2015   \n",
       "3             5,677.40               133.76                 0.00     0  2015   \n",
       "4             5,986.26               197.69                 0.00     0  2015   \n",
       "\n",
       "  regions  day  week  month  \n",
       "0       1   27    52     12  \n",
       "1       1   20    51     12  \n",
       "2       1   13    50     12  \n",
       "3       1    6    49     12  \n",
       "4       1   29    48     11  "
      ]
     },
     "execution_count": 16,
     "metadata": {},
     "output_type": "execute_result"
    }
   ],
   "source": [
    "dfm.head()"
   ]
  },
  {
   "cell_type": "code",
   "execution_count": 17,
   "metadata": {},
   "outputs": [
    {
     "data": {
      "image/png": "[encoded data removed]",
      "text/plain": [
       "<Figure size 720x720 with 16 Axes>"
      ]
     },
     "metadata": {
      "needs_background": "light"
     },
     "output_type": "display_data"
    }
   ],
   "source": [
    "dfm.hist(bins=8, figsize=(10,10))\n",
    "plt.show()"
   ]
  },
  {
   "cell_type": "code",
   "execution_count": null,
   "metadata": {},
   "outputs": [],
   "source": []
  },
  {
   "cell_type": "code",
   "execution_count": 19,
   "metadata": {},
   "outputs": [
    {
     "data": {
      "image/png": "[encoded data removed]",
      "text/plain": [
       "<Figure size 1368x1080 with 2 Axes>"
      ]
     },
     "metadata": {
      "needs_background": "light"
     },
     "output_type": "display_data"
    }
   ],
   "source": [
    "\n",
    "f = plt.figure(figsize=(19, 15))\n",
    "plt.matshow(dfm.corr(), fignum=f.number)\n",
    "plt.xticks(range(dfm.shape[1]), dfm.columns, fontsize=7, rotation=45)\n",
    "plt.yticks(range(dfm.shape[1]), dfm.columns, fontsize=7)\n",
    "cb = plt.colorbar()\n",
    "cb.ax.tick_params(labelsize=14)\n",
    "plt.title('Correlation Matrix', fontsize=16);"
   ]
  },
  {
   "cell_type": "code",
   "execution_count": 20,
   "metadata": {},
   "outputs": [
    {
     "name": "stdout",
     "output_type": "stream",
     "text": [
      "Train set shape (12846, 15), test set shape (5403, 15)\n"
     ]
    }
   ],
   "source": [
    "np.random.seed(42)\n",
    "mask = np.random.rand(dfm.shape[0]) <= 0.7\n",
    "#mask - train group , ~mask - test group\n",
    "print('Train set shape {0}, test set shape {1}'.format(dfm[mask].shape, dfm[~mask].shape))"
   ]
  },
  {
   "cell_type": "code",
   "execution_count": 21,
   "metadata": {},
   "outputs": [
    {
     "name": "stdout",
     "output_type": "stream",
     "text": [
      "RMSE = 0.3013\n"
     ]
    }
   ],
   "source": [
    "lr=LinearRegression()\n",
    "lr.fit(dfm[mask].drop(['AveragePrice','regions'], axis=1),\n",
    "       dfm[mask]['AveragePrice'])\n",
    "\n",
    "pred1 = lr.predict(dfm[~mask].drop(['AveragePrice','regions'],   \n",
    "                          axis=1))\n",
    "\n",
    "print('RMSE = {0:.04f}'.format(\n",
    "    np.sqrt(np.mean((pred1-dfm[~mask]['AveragePrice'])**2))))"
   ]
  },
  {
   "cell_type": "code",
   "execution_count": 22,
   "metadata": {},
   "outputs": [
    {
     "data": {
      "text/html": [
       "<div>\n",
       "<style scoped>\n",
       "    .dataframe tbody tr th:only-of-type {\n",
       "        vertical-align: middle;\n",
       "    }\n",
       "\n",
       "    .dataframe tbody tr th {\n",
       "        vertical-align: top;\n",
       "    }\n",
       "\n",
       "    .dataframe thead th {\n",
       "        text-align: right;\n",
       "    }\n",
       "</style>\n",
       "<table border=\"1\" class=\"dataframe\">\n",
       "  <thead>\n",
       "    <tr style=\"text-align: right;\">\n",
       "      <th></th>\n",
       "      <th>coeficient</th>\n",
       "    </tr>\n",
       "  </thead>\n",
       "  <tbody>\n",
       "    <tr>\n",
       "      <td>Total Bags</td>\n",
       "      <td>-0.03</td>\n",
       "    </tr>\n",
       "    <tr>\n",
       "      <td>week</td>\n",
       "      <td>-0.00</td>\n",
       "    </tr>\n",
       "    <tr>\n",
       "      <td>Total Volume</td>\n",
       "      <td>-0.00</td>\n",
       "    </tr>\n",
       "    <tr>\n",
       "      <td>4770</td>\n",
       "      <td>0.00</td>\n",
       "    </tr>\n",
       "    <tr>\n",
       "      <td>4046</td>\n",
       "      <td>0.00</td>\n",
       "    </tr>\n",
       "    <tr>\n",
       "      <td>4225</td>\n",
       "      <td>0.00</td>\n",
       "    </tr>\n",
       "    <tr>\n",
       "      <td>day</td>\n",
       "      <td>0.00</td>\n",
       "    </tr>\n",
       "    <tr>\n",
       "      <td>month</td>\n",
       "      <td>0.03</td>\n",
       "    </tr>\n",
       "    <tr>\n",
       "      <td>Large Bags</td>\n",
       "      <td>0.03</td>\n",
       "    </tr>\n",
       "    <tr>\n",
       "      <td>Small Bags</td>\n",
       "      <td>0.03</td>\n",
       "    </tr>\n",
       "    <tr>\n",
       "      <td>XLarge Bags</td>\n",
       "      <td>0.03</td>\n",
       "    </tr>\n",
       "    <tr>\n",
       "      <td>year</td>\n",
       "      <td>0.05</td>\n",
       "    </tr>\n",
       "    <tr>\n",
       "      <td>type</td>\n",
       "      <td>0.49</td>\n",
       "    </tr>\n",
       "  </tbody>\n",
       "</table>\n",
       "</div>"
      ],
      "text/plain": [
       "                       coeficient\n",
       "Total Bags                  -0.03\n",
       "week                        -0.00\n",
       "Total Volume                -0.00\n",
       "4770                         0.00\n",
       "4046                         0.00\n",
       "4225                         0.00\n",
       "day                          0.00\n",
       "month                        0.03\n",
       "Large Bags                   0.03\n",
       "Small Bags                   0.03\n",
       "XLarge Bags                  0.03\n",
       "year                         0.05\n",
       "type                         0.49"
      ]
     },
     "execution_count": 22,
     "metadata": {},
     "output_type": "execute_result"
    }
   ],
   "source": [
    "\n",
    "pd.DataFrame(lr.coef_, columns=['coeficient'],\n",
    "    index=dfm[mask].drop(['AveragePrice','regions'], axis=1).columns,\n",
    "             ).sort_values(by='coeficient')"
   ]
  },
  {
   "cell_type": "code",
   "execution_count": 23,
   "metadata": {},
   "outputs": [
    {
     "name": "stdout",
     "output_type": "stream",
     "text": [
      "RMSE = 0.3013\n"
     ]
    },
    {
     "name": "stderr",
     "output_type": "stream",
     "text": [
      "C:\\Users\\2019\\Anaconda3\\lib\\site-packages\\sklearn\\linear_model\\coordinate_descent.py:475: ConvergenceWarning: Objective did not converge. You might want to increase the number of iterations. Duality gap: 612.8815926938577, tolerance: 0.20727782642378953\n",
      "  positive)\n"
     ]
    }
   ],
   "source": [
    "\n",
    "from sklearn.linear_model import Lasso\n",
    "lasso=Lasso(alpha=0.01)\n",
    "lasso.fit(dfm[mask].drop(['AveragePrice','regions'], axis=1),\n",
    "       dfm[mask]['AveragePrice'])\n",
    "\n",
    "pred2 = lasso.predict(dfm[~mask].drop(['AveragePrice','regions'],   \n",
    "                          axis=1))\n",
    "\n",
    "print('RMSE = {0:.04f}'.format(\n",
    "    np.sqrt(np.mean((pred1-dfm[~mask]['AveragePrice'])**2))))"
   ]
  },
  {
   "cell_type": "code",
   "execution_count": 24,
   "metadata": {},
   "outputs": [
    {
     "data": {
      "text/html": [
       "<div>\n",
       "<style scoped>\n",
       "    .dataframe tbody tr th:only-of-type {\n",
       "        vertical-align: middle;\n",
       "    }\n",
       "\n",
       "    .dataframe tbody tr th {\n",
       "        vertical-align: top;\n",
       "    }\n",
       "\n",
       "    .dataframe thead th {\n",
       "        text-align: right;\n",
       "    }\n",
       "</style>\n",
       "<table border=\"1\" class=\"dataframe\">\n",
       "  <thead>\n",
       "    <tr style=\"text-align: right;\">\n",
       "      <th></th>\n",
       "      <th>coeficient</th>\n",
       "    </tr>\n",
       "  </thead>\n",
       "  <tbody>\n",
       "    <tr>\n",
       "      <td>4770</td>\n",
       "      <td>-0.00</td>\n",
       "    </tr>\n",
       "    <tr>\n",
       "      <td>Large Bags</td>\n",
       "      <td>-0.00</td>\n",
       "    </tr>\n",
       "    <tr>\n",
       "      <td>4046</td>\n",
       "      <td>-0.00</td>\n",
       "    </tr>\n",
       "    <tr>\n",
       "      <td>Total Volume</td>\n",
       "      <td>-0.00</td>\n",
       "    </tr>\n",
       "    <tr>\n",
       "      <td>week</td>\n",
       "      <td>0.00</td>\n",
       "    </tr>\n",
       "    <tr>\n",
       "      <td>Small Bags</td>\n",
       "      <td>0.00</td>\n",
       "    </tr>\n",
       "    <tr>\n",
       "      <td>Total Bags</td>\n",
       "      <td>0.00</td>\n",
       "    </tr>\n",
       "    <tr>\n",
       "      <td>4225</td>\n",
       "      <td>0.00</td>\n",
       "    </tr>\n",
       "    <tr>\n",
       "      <td>XLarge Bags</td>\n",
       "      <td>0.00</td>\n",
       "    </tr>\n",
       "    <tr>\n",
       "      <td>day</td>\n",
       "      <td>0.00</td>\n",
       "    </tr>\n",
       "    <tr>\n",
       "      <td>month</td>\n",
       "      <td>0.02</td>\n",
       "    </tr>\n",
       "    <tr>\n",
       "      <td>year</td>\n",
       "      <td>0.04</td>\n",
       "    </tr>\n",
       "    <tr>\n",
       "      <td>type</td>\n",
       "      <td>0.44</td>\n",
       "    </tr>\n",
       "  </tbody>\n",
       "</table>\n",
       "</div>"
      ],
      "text/plain": [
       "                       coeficient\n",
       "4770                        -0.00\n",
       "Large Bags                  -0.00\n",
       "4046                        -0.00\n",
       "Total Volume                -0.00\n",
       "week                         0.00\n",
       "Small Bags                   0.00\n",
       "Total Bags                   0.00\n",
       "4225                         0.00\n",
       "XLarge Bags                  0.00\n",
       "day                          0.00\n",
       "month                        0.02\n",
       "year                         0.04\n",
       "type                         0.44"
      ]
     },
     "execution_count": 24,
     "metadata": {},
     "output_type": "execute_result"
    }
   ],
   "source": [
    "pd.DataFrame(lasso.coef_, columns=['coeficient'],\n",
    "    index=dfm[mask].drop(['AveragePrice','regions'], axis=1).columns,\n",
    "             ).sort_values(by='coeficient')"
   ]
  },
  {
   "cell_type": "code",
   "execution_count": 25,
   "metadata": {},
   "outputs": [
    {
     "data": {
      "text/plain": [
       "<matplotlib.axes._subplots.AxesSubplot at 0x19630ef0388>"
      ]
     },
     "execution_count": 25,
     "metadata": {},
     "output_type": "execute_result"
    },
    {
     "data": {
      "image/png": "[encoded data removed]",
      "text/plain": [
       "<Figure size 432x288 with 1 Axes>"
      ]
     },
     "metadata": {
      "needs_background": "light"
     },
     "output_type": "display_data"
    }
   ],
   "source": [
    "sns.regplot(dfm[~mask].AveragePrice,pred2, color='blue')"
   ]
  },
  {
   "cell_type": "code",
   "execution_count": 26,
   "metadata": {},
   "outputs": [
    {
     "name": "stdout",
     "output_type": "stream",
     "text": [
      "RMSE = 0.3013\n"
     ]
    }
   ],
   "source": [
    "\n",
    "from sklearn.ensemble import RandomForestRegressor\n",
    "\n",
    "rf = RandomForestRegressor(n_estimators=50)\n",
    "rf.fit(dfm[mask].drop(['AveragePrice','regions'], axis=1),\n",
    "       dfm[mask]['AveragePrice'])\n",
    "\n",
    "pred3 = rf.predict(dfm[~mask].drop(['AveragePrice','regions'],   \n",
    "                          axis=1))\n",
    "\n",
    "print('RMSE = {0:.04f}'.format(\n",
    "    np.sqrt(np.mean((pred1-dfm[~mask]['AveragePrice'])**2))))"
   ]
  },
  {
   "cell_type": "code",
   "execution_count": 27,
   "metadata": {},
   "outputs": [
    {
     "name": "stdout",
     "output_type": "stream",
     "text": [
      "training score:0.98\n",
      "test score:0.87 \n"
     ]
    }
   ],
   "source": [
    "score1=rf.score(dfm[~mask].drop(['AveragePrice','regions'],  \n",
    "                          axis=1),\n",
    "      dfm[~mask]['AveragePrice'])\n",
    "score2=rf.score(dfm[mask].drop(['AveragePrice','regions'],  \n",
    "                          axis=1),\n",
    "      dfm[mask]['AveragePrice'])\n",
    "print (\"training score:{0:.02f}\".format(score2))\n",
    "print (\"test score:{0:.02f} \".format(score1))"
   ]
  },
  {
   "cell_type": "code",
   "execution_count": 28,
   "metadata": {},
   "outputs": [
    {
     "data": {
      "text/html": [
       "<div>\n",
       "<style scoped>\n",
       "    .dataframe tbody tr th:only-of-type {\n",
       "        vertical-align: middle;\n",
       "    }\n",
       "\n",
       "    .dataframe tbody tr th {\n",
       "        vertical-align: top;\n",
       "    }\n",
       "\n",
       "    .dataframe thead th {\n",
       "        text-align: right;\n",
       "    }\n",
       "</style>\n",
       "<table border=\"1\" class=\"dataframe\">\n",
       "  <thead>\n",
       "    <tr style=\"text-align: right;\">\n",
       "      <th></th>\n",
       "      <th>0</th>\n",
       "    </tr>\n",
       "  </thead>\n",
       "  <tbody>\n",
       "    <tr>\n",
       "      <td>Total Volume</td>\n",
       "      <td>0.03</td>\n",
       "    </tr>\n",
       "    <tr>\n",
       "      <td>4046</td>\n",
       "      <td>0.10</td>\n",
       "    </tr>\n",
       "    <tr>\n",
       "      <td>4225</td>\n",
       "      <td>0.08</td>\n",
       "    </tr>\n",
       "    <tr>\n",
       "      <td>4770</td>\n",
       "      <td>0.04</td>\n",
       "    </tr>\n",
       "    <tr>\n",
       "      <td>Total Bags</td>\n",
       "      <td>0.04</td>\n",
       "    </tr>\n",
       "    <tr>\n",
       "      <td>Small Bags</td>\n",
       "      <td>0.04</td>\n",
       "    </tr>\n",
       "    <tr>\n",
       "      <td>Large Bags</td>\n",
       "      <td>0.09</td>\n",
       "    </tr>\n",
       "    <tr>\n",
       "      <td>XLarge Bags</td>\n",
       "      <td>0.01</td>\n",
       "    </tr>\n",
       "    <tr>\n",
       "      <td>type</td>\n",
       "      <td>0.37</td>\n",
       "    </tr>\n",
       "    <tr>\n",
       "      <td>year</td>\n",
       "      <td>0.07</td>\n",
       "    </tr>\n",
       "    <tr>\n",
       "      <td>day</td>\n",
       "      <td>0.01</td>\n",
       "    </tr>\n",
       "    <tr>\n",
       "      <td>week</td>\n",
       "      <td>0.07</td>\n",
       "    </tr>\n",
       "    <tr>\n",
       "      <td>month</td>\n",
       "      <td>0.05</td>\n",
       "    </tr>\n",
       "  </tbody>\n",
       "</table>\n",
       "</div>"
      ],
      "text/plain": [
       "                                0\n",
       "Total Volume                 0.03\n",
       "4046                         0.10\n",
       "4225                         0.08\n",
       "4770                         0.04\n",
       "Total Bags                   0.04\n",
       "Small Bags                   0.04\n",
       "Large Bags                   0.09\n",
       "XLarge Bags                  0.01\n",
       "type                         0.37\n",
       "year                         0.07\n",
       "day                          0.01\n",
       "week                         0.07\n",
       "month                        0.05"
      ]
     },
     "execution_count": 28,
     "metadata": {},
     "output_type": "execute_result"
    }
   ],
   "source": [
    "pd.DataFrame(rf.feature_importances_,\n",
    "             index=dfm[mask].drop(['AveragePrice','regions'], axis=1).columns)"
   ]
  },
  {
   "cell_type": "code",
   "execution_count": 29,
   "metadata": {},
   "outputs": [
    {
     "name": "stdout",
     "output_type": "stream",
     "text": [
      "RMSE = 0.2359\n"
     ]
    },
    {
     "name": "stderr",
     "output_type": "stream",
     "text": [
      "C:\\Users\\2019\\Anaconda3\\lib\\site-packages\\sklearn\\linear_model\\coordinate_descent.py:475: ConvergenceWarning: Objective did not converge. You might want to increase the number of iterations. Duality gap: 612.8815926938577, tolerance: 0.20727782642378953\n",
      "  positive)\n"
     ]
    }
   ],
   "source": [
    "\n",
    "from sklearn.ensemble import VotingRegressor\n",
    "ereg = VotingRegressor(estimators=[ ('lr', lr),('RandomForest', rf), ('lasso', lasso)])\n",
    "ereg.fit(dfm[mask].drop(['AveragePrice','regions'], axis=1),\n",
    "       dfm[mask]['AveragePrice'])\n",
    "pred4 = ereg.predict(dfm[~mask].drop(['AveragePrice','regions'], axis=1))\n",
    "print('RMSE = {0:.04f}'.format(np.sqrt(np.mean((pred4 - dfm[~mask]['AveragePrice'])**2))))"
   ]
  },
  {
   "cell_type": "code",
   "execution_count": null,
   "metadata": {},
   "outputs": [],
   "source": []
  }
 ],
 "metadata": {
  "kernelspec": {
   "display_name": "Python 3",
   "language": "python",
   "name": "python3"
  },
  "language_info": {
   "codemirror_mode": {
    "name": "ipython",
    "version": 3
   },
   "file_extension": ".py",
   "mimetype": "text/x-python",
   "name": "python",
   "nbconvert_exporter": "python",
   "pygments_lexer": "ipython3",
   "version": "3.7.4"
  }
 },
 "nbformat": 4,
 "nbformat_minor": 2
}
